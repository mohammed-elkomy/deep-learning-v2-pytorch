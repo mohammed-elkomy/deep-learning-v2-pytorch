{
  "nbformat": 4,
  "nbformat_minor": 0,
  "metadata": {
    "colab": {
      "name": "Convolutional_Autoencoder_Exercise.ipynb",
      "version": "0.3.2",
      "provenance": [],
      "collapsed_sections": []
    },
    "language_info": {
      "codemirror_mode": {
        "name": "ipython",
        "version": 3
      },
      "file_extension": ".py",
      "mimetype": "text/x-python",
      "name": "python",
      "nbconvert_exporter": "python",
      "pygments_lexer": "ipython3",
      "version": "3.6.8"
    },
    "kernelspec": {
      "name": "python3",
      "display_name": "Python 3"
    },
    "accelerator": "GPU"
  },
  "cells": [
    {
      "cell_type": "code",
      "metadata": {
        "id": "7-NqARDyeYp-",
        "colab_type": "code",
        "outputId": "0c0e3c3b-376e-451d-bfa0-76a4b3af29d3",
        "colab": {
          "base_uri": "https://localhost:8080/",
          "height": 612
        }
      },
      "source": [
        "# colab starter\n",
        "\n",
        "!pip install tqdm\n",
        "!pip3 install torchvision\n",
        "!pip install -U -q PyDrive\n",
        "#https://www.cyberciti.biz/tips/what-is-devshm-and-its-practical-usage.html\n",
        "!mount -o remount,size=8G /dev/shm\n",
        "!pip install imgaug\n",
        "\n",
        "\n",
        "\n",
        "!git clone https://github.com/mohammed-elkomy/deep-learning-v2-pytorch.git\n",
        "import os \n",
        "\n",
        "!pip install -r requirements.txt\n",
        "\n",
        "os.chdir(\"/content/deep-learning-v2-pytorch/autoencoder/convolutional-autoencoder\")"
      ],
      "execution_count": 1,
      "outputs": [
        {
          "output_type": "stream",
          "text": [
            "Requirement already satisfied: tqdm in /usr/local/lib/python3.6/dist-packages (4.28.1)\n",
            "Requirement already satisfied: torchvision in /usr/local/lib/python3.6/dist-packages (0.3.0)\n",
            "Requirement already satisfied: pillow>=4.1.1 in /usr/local/lib/python3.6/dist-packages (from torchvision) (4.3.0)\n",
            "Requirement already satisfied: numpy in /usr/local/lib/python3.6/dist-packages (from torchvision) (1.16.4)\n",
            "Requirement already satisfied: torch>=1.1.0 in /usr/local/lib/python3.6/dist-packages (from torchvision) (1.1.0)\n",
            "Requirement already satisfied: six in /usr/local/lib/python3.6/dist-packages (from torchvision) (1.12.0)\n",
            "Requirement already satisfied: olefile in /usr/local/lib/python3.6/dist-packages (from pillow>=4.1.1->torchvision) (0.46)\n",
            "\u001b[K     |████████████████████████████████| 993kB 2.7MB/s \n",
            "\u001b[?25h  Building wheel for PyDrive (setup.py) ... \u001b[?25l\u001b[?25hdone\n",
            "Requirement already satisfied: imgaug in /usr/local/lib/python3.6/dist-packages (0.2.9)\n",
            "Requirement already satisfied: matplotlib in /usr/local/lib/python3.6/dist-packages (from imgaug) (3.0.3)\n",
            "Requirement already satisfied: opencv-python in /usr/local/lib/python3.6/dist-packages (from imgaug) (3.4.5.20)\n",
            "Requirement already satisfied: numpy>=1.15.0 in /usr/local/lib/python3.6/dist-packages (from imgaug) (1.16.4)\n",
            "Requirement already satisfied: Shapely in /usr/local/lib/python3.6/dist-packages (from imgaug) (1.6.4.post2)\n",
            "Requirement already satisfied: scikit-image>=0.11.0 in /usr/local/lib/python3.6/dist-packages (from imgaug) (0.15.0)\n",
            "Requirement already satisfied: scipy in /usr/local/lib/python3.6/dist-packages (from imgaug) (1.3.0)\n",
            "Requirement already satisfied: Pillow in /usr/local/lib/python3.6/dist-packages (from imgaug) (4.3.0)\n",
            "Requirement already satisfied: imageio in /usr/local/lib/python3.6/dist-packages (from imgaug) (2.4.1)\n",
            "Requirement already satisfied: six in /usr/local/lib/python3.6/dist-packages (from imgaug) (1.12.0)\n",
            "Requirement already satisfied: cycler>=0.10 in /usr/local/lib/python3.6/dist-packages (from matplotlib->imgaug) (0.10.0)\n",
            "Requirement already satisfied: kiwisolver>=1.0.1 in /usr/local/lib/python3.6/dist-packages (from matplotlib->imgaug) (1.1.0)\n",
            "Requirement already satisfied: pyparsing!=2.0.4,!=2.1.2,!=2.1.6,>=2.0.1 in /usr/local/lib/python3.6/dist-packages (from matplotlib->imgaug) (2.4.0)\n",
            "Requirement already satisfied: python-dateutil>=2.1 in /usr/local/lib/python3.6/dist-packages (from matplotlib->imgaug) (2.5.3)\n",
            "Requirement already satisfied: networkx>=2.0 in /usr/local/lib/python3.6/dist-packages (from scikit-image>=0.11.0->imgaug) (2.3)\n",
            "Requirement already satisfied: PyWavelets>=0.4.0 in /usr/local/lib/python3.6/dist-packages (from scikit-image>=0.11.0->imgaug) (1.0.3)\n",
            "Requirement already satisfied: olefile in /usr/local/lib/python3.6/dist-packages (from Pillow->imgaug) (0.46)\n",
            "Requirement already satisfied: setuptools in /usr/local/lib/python3.6/dist-packages (from kiwisolver>=1.0.1->matplotlib->imgaug) (41.0.1)\n",
            "Requirement already satisfied: decorator>=4.3.0 in /usr/local/lib/python3.6/dist-packages (from networkx>=2.0->scikit-image>=0.11.0->imgaug) (4.4.0)\n",
            "Cloning into 'deep-learning-v2-pytorch'...\n",
            "remote: Enumerating objects: 1088, done.\u001b[K\n",
            "remote: Total 1088 (delta 0), reused 0 (delta 0), pack-reused 1088\u001b[K\n",
            "Receiving objects: 100% (1088/1088), 139.82 MiB | 11.47 MiB/s, done.\n",
            "Resolving deltas: 100% (471/471), done.\n",
            "Checking out files: 100% (270/270), done.\n",
            "\u001b[31mERROR: Could not open requirements file: [Errno 2] No such file or directory: 'requirements.txt'\u001b[0m\n"
          ],
          "name": "stdout"
        }
      ]
    },
    {
      "cell_type": "markdown",
      "metadata": {
        "id": "lB-LvdXLeW1P",
        "colab_type": "text"
      },
      "source": [
        "# Convolutional Autoencoder\n",
        "\n",
        "Sticking with the MNIST dataset, let's improve our autoencoder's performance using convolutional layers. We'll build a convolutional autoencoder to compress the MNIST dataset. \n",
        "\n",
        ">The encoder portion will be made of convolutional and pooling layers and the decoder will be made of **transpose convolutional layers** that learn to \"upsample\" a compressed representation.\n",
        "\n",
        "<img src='notebook_ims/autoencoder_1.png' />\n",
        "\n",
        "### Compressed Representation\n",
        "\n",
        "A compressed representation can be great for saving and sharing any kind of data in a way that is more efficient than storing raw data. In practice, the compressed representation often holds key information about an input image and we can use it for denoising images or other kinds of reconstruction and transformation!\n",
        "\n",
        "<img src='notebook_ims/denoising.png' width=60%/>\n",
        "\n",
        "Let's get started by importing our libraries and getting the dataset."
      ]
    },
    {
      "cell_type": "code",
      "metadata": {
        "id": "mYJYWn-XeW1R",
        "colab_type": "code",
        "outputId": "c19813d6-ebce-4fa8-da4d-66a2aba0a7fb",
        "colab": {
          "base_uri": "https://localhost:8080/",
          "height": 255
        }
      },
      "source": [
        "import torch\n",
        "import numpy as np\n",
        "from torchvision import datasets\n",
        "import torchvision.transforms as transforms\n",
        "\n",
        "# convert data to torch.FloatTensor\n",
        "transform = transforms.ToTensor()\n",
        "\n",
        "# load the training and test datasets\n",
        "train_data = datasets.MNIST(root='data', train=True,\n",
        "                                   download=True, transform=transform)\n",
        "test_data = datasets.MNIST(root='data', train=False,\n",
        "                                  download=True, transform=transform)"
      ],
      "execution_count": 2,
      "outputs": [
        {
          "output_type": "stream",
          "text": [
            "\r0it [00:00, ?it/s]"
          ],
          "name": "stderr"
        },
        {
          "output_type": "stream",
          "text": [
            "Downloading http://yann.lecun.com/exdb/mnist/train-images-idx3-ubyte.gz to data/MNIST/raw/train-images-idx3-ubyte.gz\n"
          ],
          "name": "stdout"
        },
        {
          "output_type": "stream",
          "text": [
            "9920512it [00:02, 3883335.35it/s]                             \n"
          ],
          "name": "stderr"
        },
        {
          "output_type": "stream",
          "text": [
            "Extracting data/MNIST/raw/train-images-idx3-ubyte.gz\n"
          ],
          "name": "stdout"
        },
        {
          "output_type": "stream",
          "text": [
            "\r0it [00:00, ?it/s]"
          ],
          "name": "stderr"
        },
        {
          "output_type": "stream",
          "text": [
            "Downloading http://yann.lecun.com/exdb/mnist/train-labels-idx1-ubyte.gz to data/MNIST/raw/train-labels-idx1-ubyte.gz\n"
          ],
          "name": "stdout"
        },
        {
          "output_type": "stream",
          "text": [
            "32768it [00:00, 57181.86it/s]                           \n",
            "0it [00:00, ?it/s]"
          ],
          "name": "stderr"
        },
        {
          "output_type": "stream",
          "text": [
            "Extracting data/MNIST/raw/train-labels-idx1-ubyte.gz\n",
            "Downloading http://yann.lecun.com/exdb/mnist/t10k-images-idx3-ubyte.gz to data/MNIST/raw/t10k-images-idx3-ubyte.gz\n"
          ],
          "name": "stdout"
        },
        {
          "output_type": "stream",
          "text": [
            "1654784it [00:01, 948502.51it/s]                             \n",
            "0it [00:00, ?it/s]"
          ],
          "name": "stderr"
        },
        {
          "output_type": "stream",
          "text": [
            "Extracting data/MNIST/raw/t10k-images-idx3-ubyte.gz\n",
            "Downloading http://yann.lecun.com/exdb/mnist/t10k-labels-idx1-ubyte.gz to data/MNIST/raw/t10k-labels-idx1-ubyte.gz\n"
          ],
          "name": "stdout"
        },
        {
          "output_type": "stream",
          "text": [
            "8192it [00:00, 21436.05it/s]            "
          ],
          "name": "stderr"
        },
        {
          "output_type": "stream",
          "text": [
            "Extracting data/MNIST/raw/t10k-labels-idx1-ubyte.gz\n",
            "Processing...\n",
            "Done!\n"
          ],
          "name": "stdout"
        },
        {
          "output_type": "stream",
          "text": [
            "\n"
          ],
          "name": "stderr"
        }
      ]
    },
    {
      "cell_type": "code",
      "metadata": {
        "id": "C2baq7HleW1V",
        "colab_type": "code",
        "colab": {}
      },
      "source": [
        "# Create training and test dataloaders\n",
        "\n",
        "num_workers = 0\n",
        "# how many samples per batch to load\n",
        "batch_size = 20\n",
        "\n",
        "# prepare data loaders\n",
        "train_loader = torch.utils.data.DataLoader(train_data, batch_size=batch_size, num_workers=num_workers)\n",
        "test_loader = torch.utils.data.DataLoader(test_data, batch_size=batch_size, num_workers=num_workers)"
      ],
      "execution_count": 0,
      "outputs": []
    },
    {
      "cell_type": "markdown",
      "metadata": {
        "id": "uB6zxVrqeW1Z",
        "colab_type": "text"
      },
      "source": [
        "### Visualize the Data"
      ]
    },
    {
      "cell_type": "code",
      "metadata": {
        "id": "IiqNGuCieW1a",
        "colab_type": "code",
        "outputId": "e07a70fc-6ec7-42bb-aaa8-2a141eb57c82",
        "colab": {
          "base_uri": "https://localhost:8080/",
          "height": 340
        }
      },
      "source": [
        "import matplotlib.pyplot as plt\n",
        "%matplotlib inline\n",
        "    \n",
        "# obtain one batch of training images\n",
        "dataiter = iter(train_loader)\n",
        "images, labels = dataiter.next()\n",
        "images = images.numpy()\n",
        "\n",
        "# get one image from the batch\n",
        "img = np.squeeze(images[0])\n",
        "\n",
        "fig = plt.figure(figsize = (5,5)) \n",
        "ax = fig.add_subplot(111)\n",
        "ax.imshow(img, cmap='gray')"
      ],
      "execution_count": 4,
      "outputs": [
        {
          "output_type": "execute_result",
          "data": {
            "text/plain": [
              "<matplotlib.image.AxesImage at 0x7f0d6b519a58>"
            ]
          },
          "metadata": {
            "tags": []
          },
          "execution_count": 4
        },
        {
          "output_type": "display_data",
          "data": {
            "image/png": "[encoded data removed]",
            "text/plain": [
              "<Figure size 360x360 with 1 Axes>"
            ]
          },
          "metadata": {
            "tags": []
          }
        }
      ]
    },
    {
      "cell_type": "markdown",
      "metadata": {
        "id": "AvwjOAbieW1f",
        "colab_type": "text"
      },
      "source": [
        "---\n",
        "## Convolutional  Autoencoder\n",
        "\n",
        "#### Encoder\n",
        "The encoder part of the network will be a typical convolutional pyramid. Each convolutional layer will be followed by a max-pooling layer to reduce the dimensions of the layers. \n",
        "\n",
        "#### Decoder\n",
        "\n",
        "The decoder though might be something new to you. The decoder needs to convert from a narrow representation to a wide, reconstructed image. For example, the representation could be a 7x7x4 max-pool layer. This is the output of the encoder, but also the input to the decoder. We want to get a 28x28x1 image out from the decoder so we need to work our way back up from the compressed representation. A schematic of the network is shown below.\n",
        "\n",
        "<img src='notebook_ims/conv_enc_1.png' width=640px>\n",
        "\n",
        "Here our final encoder layer has size 7x7x4 = 196. The original images have size 28x28 = 784, so the encoded vector is 25% the size of the original image. These are just suggested sizes for each of the layers. Feel free to change the depths and sizes, in fact, you're encouraged to add additional layers to make this representation even smaller! Remember our goal here is to find a small representation of the input data.\n",
        "\n",
        "### Transpose Convolutions, Decoder\n",
        "\n",
        "This decoder uses **transposed convolutional** layers to increase the width and height of the input layers. They work almost exactly the same as convolutional layers, but in reverse. A stride in the input layer results in a larger stride in the transposed convolution layer. For example, if you have a 3x3 kernel, a 3x3 patch in the input layer will be reduced to one unit in a convolutional layer. Comparatively, one unit in the input layer will be expanded to a 3x3 path in a transposed convolution layer. PyTorch provides us with an easy way to create the layers, [`nn.ConvTranspose2d`](https://pytorch.org/docs/stable/nn.html#convtranspose2d). \n",
        "\n",
        "It is important to note that transpose convolution layers can lead to artifacts in the final images, such as checkerboard patterns. This is due to overlap in the kernels which can be avoided by setting the stride and kernel size equal. In [this Distill article](http://distill.pub/2016/deconv-checkerboard/) from Augustus Odena, *et al*, the authors show that these checkerboard artifacts can be avoided by resizing the layers using nearest neighbor or bilinear interpolation (upsampling) followed by a convolutional layer. \n",
        "\n",
        "> We'll show this approach in another notebook, so you can experiment with it and see the difference.\n",
        "\n",
        "\n",
        "#### TODO: Build the network shown above. \n",
        "> Build the encoder out of a series of convolutional and pooling layers. \n",
        "> When building the decoder, recall that transpose convolutional layers can upsample an input by a factor of 2 using a stride and kernel_size of 2. "
      ]
    },
    {
      "cell_type": "code",
      "metadata": {
        "id": "G9a7VKQ0eW1g",
        "colab_type": "code",
        "outputId": "f94b6a6b-f611-4de8-bfdf-f2e4269d9b03",
        "colab": {
          "base_uri": "https://localhost:8080/",
          "height": 136
        }
      },
      "source": [
        "import torch.nn as nn\n",
        "import torch.nn.functional as F\n",
        "\n",
        "# define the NN architecture\n",
        "class ConvAutoencoder(nn.Module):\n",
        "    def __init__(self):\n",
        "        super(ConvAutoencoder, self).__init__()\n",
        "        ## encoder layers ## 28 > 14 > 7\n",
        "        self.conv1 = nn.Conv2d(1, 16, 3,padding = 1) # (IMAGE-KERNEL-P*2)/STRIDE + 1\n",
        "        self.conv2 = nn.Conv2d(16, 4, 3,padding = 1) # (IMAGE-KERNEL-P*2)/STRIDE + 1\n",
        "\n",
        "        # max pooling layer\n",
        "        self.pool = nn.MaxPool2d(2, 2)\n",
        "        \n",
        "        ## decoder layers ## 7 > 14 > 28\n",
        "        ## a kernel of 2 and a stride of 2 will increase the spatial dims by 2\n",
        "        self.t_conv1 = nn.ConvTranspose2d(4, 16, 2, stride=2)\n",
        "        self.t_conv2 = nn.ConvTranspose2d(16, 1, 2, stride=2)\n",
        "   \n",
        "        #x = F.upsample(x, scale_factor=2, mode='nearest')\n",
        "\n",
        "    def forward(self, x):\n",
        "        ## encode ##\n",
        "        x= self.pool(F.relu(self.conv1(x)))\n",
        "        x= self.pool(F.relu(self.conv2(x)))\n",
        "        \n",
        "        #print(\"encoded\",encoded.shape)\n",
        "        ## decode ##\n",
        "        x = F.relu(self.t_conv1(x))\n",
        "        x = F.sigmoid(self.t_conv2(x))\n",
        "\n",
        "        ## apply ReLu to all hidden layers *except for the output layer\n",
        "        ## apply a sigmoid to the output layer\n",
        "        #print(\"decoded\",decoded.shape)\n",
        "                \n",
        "        return x\n",
        "\n",
        "# initialize the NN\n",
        "model = ConvAutoencoder()\n",
        "print(model)"
      ],
      "execution_count": 16,
      "outputs": [
        {
          "output_type": "stream",
          "text": [
            "ConvAutoencoder(\n",
            "  (conv1): Conv2d(1, 16, kernel_size=(3, 3), stride=(1, 1), padding=(1, 1))\n",
            "  (conv2): Conv2d(16, 4, kernel_size=(3, 3), stride=(1, 1), padding=(1, 1))\n",
            "  (pool): MaxPool2d(kernel_size=2, stride=2, padding=0, dilation=1, ceil_mode=False)\n",
            "  (t_conv1): ConvTranspose2d(4, 16, kernel_size=(2, 2), stride=(2, 2))\n",
            "  (t_conv2): ConvTranspose2d(16, 1, kernel_size=(2, 2), stride=(2, 2))\n",
            ")\n"
          ],
          "name": "stdout"
        }
      ]
    },
    {
      "cell_type": "code",
      "metadata": {
        "id": "_vS7NxKWoo3G",
        "colab_type": "code",
        "colab": {}
      },
      "source": [
        "import torch.nn as nn\n",
        "import torch.nn.functional as F\n",
        "\n",
        "# define the NN architecture\n",
        "class ConvAutoencoder(nn.Module):\n",
        "    def __init__(self):\n",
        "        super(ConvAutoencoder, self).__init__()\n",
        "        ## encoder layers ##\n",
        "        # conv layer (depth from 1 --> 16), 3x3 kernels\n",
        "        self.conv1 = nn.Conv2d(1, 16, 3, padding=1)  \n",
        "        # conv layer (depth from 16 --> 8), 3x3 kernels\n",
        "        self.conv2 = nn.Conv2d(16, 4, 3, padding=1)\n",
        "        # pooling layer to reduce x-y dims by two; kernel and stride of 2\n",
        "        self.pool = nn.MaxPool2d(2, 2)\n",
        "        \n",
        "        ## decoder layers ##\n",
        "        self.conv4 = nn.Conv2d(4, 16, 3, padding=1)\n",
        "        self.conv5 = nn.Conv2d(16, 1, 3, padding=1)\n",
        "        \n",
        "\n",
        "    def forward(self, x):\n",
        "        # add layer, with relu activation function\n",
        "        # and maxpooling after\n",
        "        x = F.relu(self.conv1(x))\n",
        "        x = self.pool(x)\n",
        "        # add hidden layer, with relu activation function\n",
        "        x = F.relu(self.conv2(x))\n",
        "        x = self.pool(x)  # compressed representation\n",
        "        \n",
        "        ## decoder \n",
        "        # upsample, followed by a conv layer, with relu activation function  \n",
        "        # this function is called `interpolate` in some PyTorch versions\n",
        "        x = F.upsample(x, scale_factor=2, mode='nearest')\n",
        "        x = F.relu(self.conv4(x))\n",
        "        # upsample again, output should have a sigmoid applied\n",
        "        x = F.upsample(x, scale_factor=2, mode='nearest')\n",
        "        x = F.sigmoid(self.conv5(x))\n",
        "        \n",
        "        return x\n",
        "\n",
        "# initialize the NN\n",
        "model = ConvAutoencoder()\n",
        "print(model)"
      ],
      "execution_count": 0,
      "outputs": []
    },
    {
      "cell_type": "markdown",
      "metadata": {
        "id": "EELXyJrTeW1k",
        "colab_type": "text"
      },
      "source": [
        "---\n",
        "## Training\n",
        "\n",
        "Here I'll write a bit of code to train the network. I'm not too interested in validation here, so I'll just monitor the training loss and the test loss afterwards. \n",
        "\n",
        "We are not concerned with labels in this case, just images, which we can get from the `train_loader`. Because we're comparing pixel values in input and output images, it will be best to use a loss that is meant for a regression task. Regression is all about comparing quantities rather than probabilistic values. So, in this case, I'll use `MSELoss`. And compare output images and input images as follows:\n",
        "```\n",
        "loss = criterion(outputs, images)\n",
        "```\n",
        "\n",
        "Otherwise, this is pretty straightfoward training with PyTorch. Since this is a convlutional autoencoder, our images _do not_ need to be flattened before being passed in an input to our model."
      ]
    },
    {
      "cell_type": "code",
      "metadata": {
        "id": "ui6Za0JMeW1l",
        "colab_type": "code",
        "colab": {}
      },
      "source": [
        "# specify loss function\n",
        "criterion = nn.MSELoss()\n",
        "\n",
        "# specify loss function\n",
        "optimizer = torch.optim.Adam(model.parameters(), lr=0.02) # increased to escape the local minima :)"
      ],
      "execution_count": 0,
      "outputs": []
    },
    {
      "cell_type": "code",
      "metadata": {
        "id": "UEGFN_sdeW1p",
        "colab_type": "code",
        "outputId": "96f67b89-0b81-4bb8-85bb-39770133e8fc",
        "colab": {
          "base_uri": "https://localhost:8080/",
          "height": 561
        }
      },
      "source": [
        "# number of epochs to train the model\n",
        "n_epochs = 30\n",
        "\n",
        "for epoch in range(1, n_epochs+1):\n",
        "    # monitor training loss\n",
        "    train_loss = 0.0\n",
        "    \n",
        "    ###################\n",
        "    # train the model #\n",
        "    ###################\n",
        "    for data in train_loader:\n",
        "        # _ stands in for labels, here\n",
        "        # no need to flatten images\n",
        "        images, _ = data\n",
        "        # clear the gradients of all optimized variables\n",
        "        optimizer.zero_grad()\n",
        "        # forward pass: compute predicted outputs by passing inputs to the model\n",
        "        outputs = model(images)\n",
        "        # calculate the loss\n",
        "        loss = criterion(outputs, images)\n",
        "        # backward pass: compute gradient of the loss with respect to model parameters\n",
        "        loss.backward()\n",
        "        # perform a single optimization step (parameter update)\n",
        "        optimizer.step()\n",
        "        # update running training loss\n",
        "        train_loss += loss.item()*images.size(0)\n",
        "            \n",
        "    # print avg training statistics \n",
        "    train_loss = train_loss/len(train_loader)\n",
        "    print('Epoch: {} \\tTraining Loss: {:.6f}'.format(\n",
        "        epoch, \n",
        "        train_loss\n",
        "        ))"
      ],
      "execution_count": 19,
      "outputs": [
        {
          "output_type": "stream",
          "text": [
            "/usr/local/lib/python3.6/dist-packages/torch/nn/functional.py:1386: UserWarning: nn.functional.sigmoid is deprecated. Use torch.sigmoid instead.\n",
            "  warnings.warn(\"nn.functional.sigmoid is deprecated. Use torch.sigmoid instead.\")\n"
          ],
          "name": "stderr"
        },
        {
          "output_type": "stream",
          "text": [
            "Epoch: 1 \tTraining Loss: 0.308066\n",
            "Epoch: 2 \tTraining Loss: 0.246868\n",
            "Epoch: 3 \tTraining Loss: 0.239991\n",
            "Epoch: 4 \tTraining Loss: 0.235684\n",
            "Epoch: 5 \tTraining Loss: 0.233451\n",
            "Epoch: 6 \tTraining Loss: 0.232905\n",
            "Epoch: 7 \tTraining Loss: 0.231512\n",
            "Epoch: 8 \tTraining Loss: 0.231222\n",
            "Epoch: 9 \tTraining Loss: 0.230847\n",
            "Epoch: 10 \tTraining Loss: 0.230751\n",
            "Epoch: 11 \tTraining Loss: 0.230292\n",
            "Epoch: 12 \tTraining Loss: 0.230131\n",
            "Epoch: 13 \tTraining Loss: 0.229954\n",
            "Epoch: 14 \tTraining Loss: 0.230021\n",
            "Epoch: 15 \tTraining Loss: 0.229779\n",
            "Epoch: 16 \tTraining Loss: 0.229570\n",
            "Epoch: 17 \tTraining Loss: 0.229342\n",
            "Epoch: 18 \tTraining Loss: 0.229198\n",
            "Epoch: 19 \tTraining Loss: 0.229068\n",
            "Epoch: 20 \tTraining Loss: 0.228676\n",
            "Epoch: 21 \tTraining Loss: 0.228657\n",
            "Epoch: 22 \tTraining Loss: 0.228923\n",
            "Epoch: 23 \tTraining Loss: 0.229055\n",
            "Epoch: 24 \tTraining Loss: 0.228920\n",
            "Epoch: 25 \tTraining Loss: 0.228408\n",
            "Epoch: 26 \tTraining Loss: 0.228126\n",
            "Epoch: 27 \tTraining Loss: 0.228312\n",
            "Epoch: 28 \tTraining Loss: 0.227973\n",
            "Epoch: 29 \tTraining Loss: 0.228538\n",
            "Epoch: 30 \tTraining Loss: 0.228266\n"
          ],
          "name": "stdout"
        }
      ]
    },
    {
      "cell_type": "markdown",
      "metadata": {
        "id": "npDEEL5geW1t",
        "colab_type": "text"
      },
      "source": [
        "## Checking out the results\n",
        "\n",
        "Below I've plotted some of the test images along with their reconstructions. These look a little rough around the edges, likely due to the checkerboard effect we mentioned above that tends to happen with transpose layers."
      ]
    },
    {
      "cell_type": "code",
      "metadata": {
        "id": "-JBh42JCeW1u",
        "colab_type": "code",
        "colab": {
          "base_uri": "https://localhost:8080/",
          "height": 673
        },
        "outputId": "68058556-2471-41d8-c5d2-d5ff141f2cfa"
      },
      "source": [
        "# obtain one batch of test images\n",
        "dataiter = iter(test_loader)\n",
        "images, labels = dataiter.next()\n",
        "\n",
        "# get sample outputs\n",
        "output = model(images)\n",
        "# prep images for display\n",
        "images = images.numpy()\n",
        "\n",
        "# output is resized into a batch of iages\n",
        "output = output.view(batch_size, 1, 28, 28)\n",
        "# use detach when it's an output that requires_grad\n",
        "output = output.detach().numpy()\n",
        "\n",
        "# plot the first ten input images and then reconstructed images\n",
        "fig, axes = plt.subplots(nrows=2, ncols=10, sharex=True, sharey=True, figsize=(25,4))\n",
        "\n",
        "# input images on top row, reconstructions on bottom\n",
        "print(\"0\",len(axes),len(axes[0]),images.shape,output.shape)\n",
        "for images, row in zip([images, output], axes):# axes is 2 * 10 list of list\n",
        "    print(\"1\",len(row),images.shape)\n",
        "    \n",
        "    for img, ax in zip(images, row):\n",
        "        print(\"2\",ax,img.shape)\n",
        "        ax.imshow(np.squeeze(img), cmap='gray')\n",
        "        ax.get_xaxis().set_visible(False)\n",
        "        ax.get_yaxis().set_visible(False)"
      ],
      "execution_count": 32,
      "outputs": [
        {
          "output_type": "stream",
          "text": [
            "/usr/local/lib/python3.6/dist-packages/torch/nn/functional.py:1386: UserWarning: nn.functional.sigmoid is deprecated. Use torch.sigmoid instead.\n",
            "  warnings.warn(\"nn.functional.sigmoid is deprecated. Use torch.sigmoid instead.\")\n"
          ],
          "name": "stderr"
        },
        {
          "output_type": "stream",
          "text": [
            "0 2 10 (20, 1, 28, 28) (20, 1, 28, 28)\n",
            "1 10 (20, 1, 28, 28)\n",
            "2 AxesSubplot(0.125,0.536818;0.065678x0.343182) (1, 28, 28)\n",
            "2 AxesSubplot(0.203814,0.536818;0.065678x0.343182) (1, 28, 28)\n",
            "2 AxesSubplot(0.282627,0.536818;0.065678x0.343182) (1, 28, 28)\n",
            "2 AxesSubplot(0.361441,0.536818;0.065678x0.343182) (1, 28, 28)\n",
            "2 AxesSubplot(0.440254,0.536818;0.065678x0.343182) (1, 28, 28)\n",
            "2 AxesSubplot(0.519068,0.536818;0.065678x0.343182) (1, 28, 28)\n",
            "2 AxesSubplot(0.597881,0.536818;0.065678x0.343182) (1, 28, 28)\n",
            "2 AxesSubplot(0.676695,0.536818;0.065678x0.343182) (1, 28, 28)\n",
            "2 AxesSubplot(0.755508,0.536818;0.065678x0.343182) (1, 28, 28)\n",
            "2 AxesSubplot(0.834322,0.536818;0.065678x0.343182) (1, 28, 28)\n",
            "1 10 (20, 1, 28, 28)\n",
            "2 AxesSubplot(0.125,0.125;0.065678x0.343182) (1, 28, 28)\n",
            "2 AxesSubplot(0.203814,0.125;0.065678x0.343182) (1, 28, 28)\n",
            "2 AxesSubplot(0.282627,0.125;0.065678x0.343182) (1, 28, 28)\n",
            "2 AxesSubplot(0.361441,0.125;0.065678x0.343182) (1, 28, 28)\n",
            "2 AxesSubplot(0.440254,0.125;0.065678x0.343182) (1, 28, 28)\n",
            "2 AxesSubplot(0.519068,0.125;0.065678x0.343182) (1, 28, 28)\n",
            "2 AxesSubplot(0.597881,0.125;0.065678x0.343182) (1, 28, 28)\n",
            "2 AxesSubplot(0.676695,0.125;0.065678x0.343182) (1, 28, 28)\n",
            "2 AxesSubplot(0.755508,0.125;0.065678x0.343182) (1, 28, 28)\n",
            "2 AxesSubplot(0.834322,0.125;0.065678x0.343182) (1, 28, 28)\n"
          ],
          "name": "stdout"
        },
        {
          "output_type": "display_data",
          "data": {
            "image/png": "[encoded data removed]",
            "text/plain": [
              "<Figure size 1800x288 with 20 Axes>"
            ]
          },
          "metadata": {
            "tags": []
          }
        }
      ]
    },
    {
      "cell_type": "code",
      "metadata": {
        "id": "4iNlt8EGw4Wo",
        "colab_type": "code",
        "colab": {
          "base_uri": "https://localhost:8080/",
          "height": 34
        },
        "outputId": "5de6a388-92e4-4cc3-c5ab-00d53ac5c25d"
      },
      "source": [
        "images"
      ],
      "execution_count": 26,
      "outputs": [
        {
          "output_type": "execute_result",
          "data": {
            "text/plain": [
              "torch.Size([20, 1, 28, 28])"
            ]
          },
          "metadata": {
            "tags": []
          },
          "execution_count": 26
        }
      ]
    }
  ]
}